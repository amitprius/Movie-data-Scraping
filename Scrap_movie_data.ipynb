{
 "cells": [
  {
   "cell_type": "markdown",
   "metadata": {},
   "source": [
    "## Scraping Movie Data\n",
    "Scraping data from imdb website at least 200 movies from each year 2015 to 2019. Data consists of `movie_name`, `release_year`, `imdb` rating, `metascore` and `total_users` vote."
   ]
  },
  {
   "cell_type": "code",
   "execution_count": 1,
   "metadata": {
    "scrolled": true
   },
   "outputs": [
    {
     "name": "stdout",
     "output_type": "stream",
     "text": [
      "\n",
      "\n",
      "<!DOCTYPE html>\n",
      "<html\n",
      "    xmlns:og=\"http://ogp.me/ns#\"\n",
      "    xmlns:fb=\"http://www.facebook.com/2008/fbml\">\n",
      "    <head>\n",
      "         \n",
      "\n",
      "        <meta charset=\"utf-8\">\n",
      "        <meta http-equiv=\"X-UA-Compatible\" content=\"IE=edge\">\n",
      "\n",
      "\n",
      "\n",
      "\n",
      "        <script type=\"text/javascript\">var IMDbTimer={starttime: new Date().getTime(),pt:'java'};</script>\n",
      "\n",
      "<script>\n",
      "    if (typeof uet == 'function') {\n",
      "      uet(\"bb\", \"LoadTitle\", {wb: 1});\n",
      "    }\n",
      "</script>\n",
      "  <script>(function(t){ (t.events = t.events || {})[\"csm_head_pre_\n"
     ]
    }
   ],
   "source": [
    "from requests import get\n",
    "url = 'http://www.imdb.com/search/title?release_date=2021&sort=num_votes,desc&page=1'\n",
    "response = get(url)\n",
    "print(response.text[:500])"
   ]
  },
  {
   "cell_type": "code",
   "execution_count": 2,
   "metadata": {},
   "outputs": [
    {
     "data": {
      "text/plain": [
       "bs4.BeautifulSoup"
      ]
     },
     "execution_count": 2,
     "metadata": {},
     "output_type": "execute_result"
    }
   ],
   "source": [
    "from bs4 import BeautifulSoup\n",
    "html_soup = BeautifulSoup(response.text, 'html.parser')\n",
    "type(html_soup)"
   ]
  },
  {
   "cell_type": "code",
   "execution_count": 3,
   "metadata": {},
   "outputs": [],
   "source": [
    "# html_soup"
   ]
  },
  {
   "cell_type": "code",
   "execution_count": 4,
   "metadata": {},
   "outputs": [
    {
     "name": "stdout",
     "output_type": "stream",
     "text": [
      "<class 'bs4.element.ResultSet'>\n",
      "50\n"
     ]
    }
   ],
   "source": [
    "movie_containers = html_soup.find_all('div', class_ = 'lister-item mode-advanced')\n",
    "print(type(movie_containers))\n",
    "print(len(movie_containers))"
   ]
  },
  {
   "cell_type": "markdown",
   "metadata": {},
   "source": [
    "#So, number of movies review in one page is 50.\n",
    "<br/>\n",
    "<br/>\n",
    "Start extracting data for first movie of 2021."
   ]
  },
  {
   "cell_type": "code",
   "execution_count": 5,
   "metadata": {
    "scrolled": true
   },
   "outputs": [],
   "source": [
    "first_movie = movie_containers[0]"
   ]
  },
  {
   "cell_type": "code",
   "execution_count": 6,
   "metadata": {},
   "outputs": [
    {
     "data": {
      "text/plain": [
       "<div class=\"lister-top-right\">\n",
       "<div class=\"ribbonize\" data-caller=\"filmosearch\" data-tconst=\"tt12361974\"></div>\n",
       "</div>"
      ]
     },
     "execution_count": 6,
     "metadata": {},
     "output_type": "execute_result"
    }
   ],
   "source": [
    "first_movie.div"
   ]
  },
  {
   "cell_type": "code",
   "execution_count": 7,
   "metadata": {},
   "outputs": [
    {
     "data": {
      "text/plain": [
       "<a href=\"/title/tt12361974/\"> <img alt=\"Zack Snyder's Justice League\" class=\"loadlate\" data-tconst=\"tt12361974\" height=\"98\" loadlate=\"https://m.media-amazon.com/images/M/MV5BYjI3NDg0ZTEtMDEwYS00YWMyLThjYjktMTNlM2NmYjc1OGRiXkEyXkFqcGdeQXVyMTEyMjM2NDc2._V1_UX67_CR0,0,67,98_AL_.jpg\" src=\"https://m.media-amazon.com/images/S/sash/4FyxwxECzL-U1J8.png\" width=\"67\"/>\n",
       "</a>"
      ]
     },
     "execution_count": 7,
     "metadata": {},
     "output_type": "execute_result"
    }
   ],
   "source": [
    "first_movie.a"
   ]
  },
  {
   "cell_type": "code",
   "execution_count": 8,
   "metadata": {},
   "outputs": [
    {
     "data": {
      "text/plain": [
       "<h3 class=\"lister-item-header\">\n",
       "<span class=\"lister-item-index unbold text-primary\">1.</span>\n",
       "<a href=\"/title/tt12361974/\">Zack Snyder's Justice League</a>\n",
       "<span class=\"lister-item-year text-muted unbold\">(2021)</span>\n",
       "</h3>"
      ]
     },
     "execution_count": 8,
     "metadata": {},
     "output_type": "execute_result"
    }
   ],
   "source": [
    "first_movie.h3"
   ]
  },
  {
   "cell_type": "code",
   "execution_count": 9,
   "metadata": {},
   "outputs": [
    {
     "data": {
      "text/plain": [
       "<a href=\"/title/tt12361974/\">Zack Snyder's Justice League</a>"
      ]
     },
     "execution_count": 9,
     "metadata": {},
     "output_type": "execute_result"
    }
   ],
   "source": [
    "first_movie.h3.a"
   ]
  },
  {
   "cell_type": "code",
   "execution_count": 10,
   "metadata": {},
   "outputs": [
    {
     "data": {
      "text/plain": [
       "\"Zack Snyder's Justice League\""
      ]
     },
     "execution_count": 10,
     "metadata": {},
     "output_type": "execute_result"
    }
   ],
   "source": [
    "first_name = first_movie.h3.a.text\n",
    "first_name"
   ]
  },
  {
   "cell_type": "code",
   "execution_count": 11,
   "metadata": {},
   "outputs": [
    {
     "data": {
      "text/plain": [
       "<span class=\"lister-item-year text-muted unbold\">(2021)</span>"
      ]
     },
     "execution_count": 11,
     "metadata": {},
     "output_type": "execute_result"
    }
   ],
   "source": [
    "first_year = first_movie.h3.find('span', class_ = 'lister-item-year text-muted unbold')\n",
    "first_year"
   ]
  },
  {
   "cell_type": "code",
   "execution_count": 12,
   "metadata": {},
   "outputs": [
    {
     "data": {
      "text/plain": [
       "'2021'"
      ]
     },
     "execution_count": 12,
     "metadata": {},
     "output_type": "execute_result"
    }
   ],
   "source": [
    "first_year = first_year.text\n",
    "first_year = first_year.replace('(','')\n",
    "first_year = first_year.replace(')','')\n",
    "first_year"
   ]
  },
  {
   "cell_type": "code",
   "execution_count": 13,
   "metadata": {},
   "outputs": [
    {
     "data": {
      "text/plain": [
       "8.1"
      ]
     },
     "execution_count": 13,
     "metadata": {},
     "output_type": "execute_result"
    }
   ],
   "source": [
    "first_imdb = float(first_movie.strong.text)\n",
    "first_imdb"
   ]
  },
  {
   "cell_type": "code",
   "execution_count": 15,
   "metadata": {},
   "outputs": [
    {
     "data": {
      "text/plain": [
       "<span data-value=\"335227\" name=\"nv\">335,227</span>"
      ]
     },
     "execution_count": 15,
     "metadata": {},
     "output_type": "execute_result"
    }
   ],
   "source": [
    "first_votes = first_movie.find('span', attrs = {'name':'nv'})\n",
    "first_votes"
   ]
  },
  {
   "cell_type": "code",
   "execution_count": 16,
   "metadata": {},
   "outputs": [
    {
     "data": {
      "text/plain": [
       "335227"
      ]
     },
     "execution_count": 16,
     "metadata": {},
     "output_type": "execute_result"
    }
   ],
   "source": [
    "first_votes = int(first_votes['data-value'])\n",
    "first_votes"
   ]
  },
  {
   "cell_type": "code",
   "execution_count": 17,
   "metadata": {},
   "outputs": [
    {
     "data": {
      "text/plain": [
       "NoneType"
      ]
     },
     "execution_count": 17,
     "metadata": {},
     "output_type": "execute_result"
    }
   ],
   "source": [
    "twentythird_movie_mscore = movie_containers[22].find('div', class_ = 'inline-block ratings-metascore')\n",
    "type(twentythird_movie_mscore)\n",
    "# Due to absence to metascore rating for this movie."
   ]
  },
  {
   "cell_type": "markdown",
   "metadata": {},
   "source": [
    "Storing data for that page in a list."
   ]
  },
  {
   "cell_type": "code",
   "execution_count": 18,
   "metadata": {},
   "outputs": [],
   "source": [
    "# Lists to store the scraped data in\n",
    "names = []\n",
    "years = []\n",
    "imdb_ratings = []\n",
    "metascores = []\n",
    "votes = []\n",
    "# Extract data from individual movie container\n",
    "for container in movie_containers:\n",
    "# If the movie has Metascore, then extract:\n",
    "    if container.find('div', class_ = 'ratings-metascore') is not None:\n",
    "# The name\n",
    "        name = container.h3.a.text\n",
    "    names.append(name)\n",
    "# The year\n",
    "    year = container.h3.find('span', class_ = 'lister-item-year').text\n",
    "    years.append(year)\n",
    "# The IMDB rating\n",
    "    imdb = float(container.strong.text)\n",
    "    imdb_ratings.append(imdb)\n",
    "# The Metascore\n",
    "    m_score = container.find('span', class_ = 'metascore')\n",
    "    if m_score is not None:\n",
    "        metascores.append(int(m_score.text))\n",
    "    else:\n",
    "        metascores.append(None)\n",
    "# The number of votes\n",
    "    vote = container.find('span', attrs = {'name':'nv'})['data-value']\n",
    "    votes.append(int(vote))"
   ]
  },
  {
   "cell_type": "code",
   "execution_count": 19,
   "metadata": {
    "scrolled": true
   },
   "outputs": [
    {
     "name": "stdout",
     "output_type": "stream",
     "text": [
      "<class 'pandas.core.frame.DataFrame'>\n",
      "RangeIndex: 50 entries, 0 to 49\n",
      "Data columns (total 5 columns):\n",
      " #   Column        Non-Null Count  Dtype  \n",
      "---  ------        --------------  -----  \n",
      " 0   movie_name    50 non-null     object \n",
      " 1   release_year  50 non-null     object \n",
      " 2   imdb          50 non-null     float64\n",
      " 3   metascore     32 non-null     float64\n",
      " 4   votes         50 non-null     int64  \n",
      "dtypes: float64(2), int64(1), object(2)\n",
      "memory usage: 2.1+ KB\n",
      "None\n"
     ]
    },
    {
     "data": {
      "text/html": [
       "<div>\n",
       "<style scoped>\n",
       "    .dataframe tbody tr th:only-of-type {\n",
       "        vertical-align: middle;\n",
       "    }\n",
       "\n",
       "    .dataframe tbody tr th {\n",
       "        vertical-align: top;\n",
       "    }\n",
       "\n",
       "    .dataframe thead th {\n",
       "        text-align: right;\n",
       "    }\n",
       "</style>\n",
       "<table border=\"1\" class=\"dataframe\">\n",
       "  <thead>\n",
       "    <tr style=\"text-align: right;\">\n",
       "      <th></th>\n",
       "      <th>movie_name</th>\n",
       "      <th>release_year</th>\n",
       "      <th>imdb</th>\n",
       "      <th>metascore</th>\n",
       "      <th>votes</th>\n",
       "    </tr>\n",
       "  </thead>\n",
       "  <tbody>\n",
       "    <tr>\n",
       "      <th>0</th>\n",
       "      <td>Zack Snyder's Justice League</td>\n",
       "      <td>(2021)</td>\n",
       "      <td>8.1</td>\n",
       "      <td>54.0</td>\n",
       "      <td>335227</td>\n",
       "    </tr>\n",
       "    <tr>\n",
       "      <th>1</th>\n",
       "      <td>Zack Snyder's Justice League</td>\n",
       "      <td>(2021– )</td>\n",
       "      <td>9.7</td>\n",
       "      <td>NaN</td>\n",
       "      <td>284017</td>\n",
       "    </tr>\n",
       "    <tr>\n",
       "      <th>2</th>\n",
       "      <td>Zack Snyder's Justice League</td>\n",
       "      <td>(2021)</td>\n",
       "      <td>8.0</td>\n",
       "      <td>NaN</td>\n",
       "      <td>228356</td>\n",
       "    </tr>\n",
       "    <tr>\n",
       "      <th>3</th>\n",
       "      <td>Black Widow</td>\n",
       "      <td>(2021)</td>\n",
       "      <td>6.8</td>\n",
       "      <td>67.0</td>\n",
       "      <td>214274</td>\n",
       "    </tr>\n",
       "    <tr>\n",
       "      <th>4</th>\n",
       "      <td>The Suicide Squad</td>\n",
       "      <td>(2021)</td>\n",
       "      <td>7.4</td>\n",
       "      <td>72.0</td>\n",
       "      <td>198598</td>\n",
       "    </tr>\n",
       "    <tr>\n",
       "      <th>5</th>\n",
       "      <td>The Suicide Squad</td>\n",
       "      <td>(2021– )</td>\n",
       "      <td>8.4</td>\n",
       "      <td>NaN</td>\n",
       "      <td>192974</td>\n",
       "    </tr>\n",
       "    <tr>\n",
       "      <th>6</th>\n",
       "      <td>The Suicide Squad</td>\n",
       "      <td>(2021)</td>\n",
       "      <td>1.8</td>\n",
       "      <td>NaN</td>\n",
       "      <td>172108</td>\n",
       "    </tr>\n",
       "    <tr>\n",
       "      <th>7</th>\n",
       "      <td>Godzilla vs. Kong</td>\n",
       "      <td>(2021)</td>\n",
       "      <td>6.4</td>\n",
       "      <td>59.0</td>\n",
       "      <td>171972</td>\n",
       "    </tr>\n",
       "    <tr>\n",
       "      <th>8</th>\n",
       "      <td>The Tomorrow War</td>\n",
       "      <td>(2021)</td>\n",
       "      <td>6.6</td>\n",
       "      <td>45.0</td>\n",
       "      <td>161515</td>\n",
       "    </tr>\n",
       "    <tr>\n",
       "      <th>9</th>\n",
       "      <td>Nobody</td>\n",
       "      <td>(2021)</td>\n",
       "      <td>7.4</td>\n",
       "      <td>64.0</td>\n",
       "      <td>156732</td>\n",
       "    </tr>\n",
       "    <tr>\n",
       "      <th>10</th>\n",
       "      <td>Nobody</td>\n",
       "      <td>(2021)</td>\n",
       "      <td>7.3</td>\n",
       "      <td>NaN</td>\n",
       "      <td>155679</td>\n",
       "    </tr>\n",
       "    <tr>\n",
       "      <th>11</th>\n",
       "      <td>Cruella</td>\n",
       "      <td>(2021)</td>\n",
       "      <td>7.4</td>\n",
       "      <td>59.0</td>\n",
       "      <td>153416</td>\n",
       "    </tr>\n",
       "    <tr>\n",
       "      <th>12</th>\n",
       "      <td>Mortal Kombat</td>\n",
       "      <td>(2021)</td>\n",
       "      <td>6.1</td>\n",
       "      <td>44.0</td>\n",
       "      <td>139509</td>\n",
       "    </tr>\n",
       "    <tr>\n",
       "      <th>13</th>\n",
       "      <td>Army of the Dead</td>\n",
       "      <td>(2021)</td>\n",
       "      <td>5.8</td>\n",
       "      <td>57.0</td>\n",
       "      <td>139121</td>\n",
       "    </tr>\n",
       "    <tr>\n",
       "      <th>14</th>\n",
       "      <td>Raya and the Last Dragon</td>\n",
       "      <td>(2021)</td>\n",
       "      <td>7.4</td>\n",
       "      <td>75.0</td>\n",
       "      <td>114746</td>\n",
       "    </tr>\n",
       "    <tr>\n",
       "      <th>15</th>\n",
       "      <td>Wrath of Man</td>\n",
       "      <td>(2021)</td>\n",
       "      <td>7.2</td>\n",
       "      <td>57.0</td>\n",
       "      <td>109975</td>\n",
       "    </tr>\n",
       "    <tr>\n",
       "      <th>16</th>\n",
       "      <td>Luca</td>\n",
       "      <td>(2021)</td>\n",
       "      <td>7.5</td>\n",
       "      <td>71.0</td>\n",
       "      <td>106210</td>\n",
       "    </tr>\n",
       "    <tr>\n",
       "      <th>17</th>\n",
       "      <td>Jungle Cruise</td>\n",
       "      <td>(2021)</td>\n",
       "      <td>6.6</td>\n",
       "      <td>50.0</td>\n",
       "      <td>100827</td>\n",
       "    </tr>\n",
       "    <tr>\n",
       "      <th>18</th>\n",
       "      <td>Jungle Cruise</td>\n",
       "      <td>(2021)</td>\n",
       "      <td>8.8</td>\n",
       "      <td>NaN</td>\n",
       "      <td>100169</td>\n",
       "    </tr>\n",
       "    <tr>\n",
       "      <th>19</th>\n",
       "      <td>Jungle Cruise</td>\n",
       "      <td>(2021)</td>\n",
       "      <td>8.5</td>\n",
       "      <td>NaN</td>\n",
       "      <td>98756</td>\n",
       "    </tr>\n",
       "    <tr>\n",
       "      <th>20</th>\n",
       "      <td>F9</td>\n",
       "      <td>(2021)</td>\n",
       "      <td>5.2</td>\n",
       "      <td>58.0</td>\n",
       "      <td>89175</td>\n",
       "    </tr>\n",
       "    <tr>\n",
       "      <th>21</th>\n",
       "      <td>F9</td>\n",
       "      <td>(2021– )</td>\n",
       "      <td>7.5</td>\n",
       "      <td>NaN</td>\n",
       "      <td>89099</td>\n",
       "    </tr>\n",
       "    <tr>\n",
       "      <th>22</th>\n",
       "      <td>F9</td>\n",
       "      <td>(2021– )</td>\n",
       "      <td>8.7</td>\n",
       "      <td>NaN</td>\n",
       "      <td>88475</td>\n",
       "    </tr>\n",
       "    <tr>\n",
       "      <th>23</th>\n",
       "      <td>The Conjuring: The Devil Made Me Do It</td>\n",
       "      <td>(2021)</td>\n",
       "      <td>6.3</td>\n",
       "      <td>53.0</td>\n",
       "      <td>83425</td>\n",
       "    </tr>\n",
       "    <tr>\n",
       "      <th>24</th>\n",
       "      <td>The Little Things</td>\n",
       "      <td>(2021)</td>\n",
       "      <td>6.3</td>\n",
       "      <td>54.0</td>\n",
       "      <td>74954</td>\n",
       "    </tr>\n",
       "    <tr>\n",
       "      <th>25</th>\n",
       "      <td>The Mitchells vs the Machines</td>\n",
       "      <td>(2021)</td>\n",
       "      <td>7.7</td>\n",
       "      <td>80.0</td>\n",
       "      <td>74921</td>\n",
       "    </tr>\n",
       "    <tr>\n",
       "      <th>26</th>\n",
       "      <td>Shang-Chi and the Legend of the Ten Rings</td>\n",
       "      <td>(2021)</td>\n",
       "      <td>8.0</td>\n",
       "      <td>71.0</td>\n",
       "      <td>73513</td>\n",
       "    </tr>\n",
       "    <tr>\n",
       "      <th>27</th>\n",
       "      <td>Shang-Chi and the Legend of the Ten Rings</td>\n",
       "      <td>(2021– )</td>\n",
       "      <td>7.7</td>\n",
       "      <td>NaN</td>\n",
       "      <td>64199</td>\n",
       "    </tr>\n",
       "    <tr>\n",
       "      <th>28</th>\n",
       "      <td>Shang-Chi and the Legend of the Ten Rings</td>\n",
       "      <td>(2021)</td>\n",
       "      <td>7.9</td>\n",
       "      <td>NaN</td>\n",
       "      <td>63628</td>\n",
       "    </tr>\n",
       "    <tr>\n",
       "      <th>29</th>\n",
       "      <td>The Dig</td>\n",
       "      <td>(2021)</td>\n",
       "      <td>7.1</td>\n",
       "      <td>73.0</td>\n",
       "      <td>63537</td>\n",
       "    </tr>\n",
       "    <tr>\n",
       "      <th>30</th>\n",
       "      <td>Fear Street: 1994</td>\n",
       "      <td>(2021)</td>\n",
       "      <td>6.2</td>\n",
       "      <td>67.0</td>\n",
       "      <td>62135</td>\n",
       "    </tr>\n",
       "    <tr>\n",
       "      <th>31</th>\n",
       "      <td>Coming 2 America</td>\n",
       "      <td>(2021)</td>\n",
       "      <td>5.3</td>\n",
       "      <td>52.0</td>\n",
       "      <td>61885</td>\n",
       "    </tr>\n",
       "    <tr>\n",
       "      <th>32</th>\n",
       "      <td>The Woman in the Window</td>\n",
       "      <td>(2021)</td>\n",
       "      <td>5.7</td>\n",
       "      <td>41.0</td>\n",
       "      <td>61221</td>\n",
       "    </tr>\n",
       "    <tr>\n",
       "      <th>33</th>\n",
       "      <td>Judas and the Black Messiah</td>\n",
       "      <td>(2021)</td>\n",
       "      <td>7.5</td>\n",
       "      <td>85.0</td>\n",
       "      <td>60163</td>\n",
       "    </tr>\n",
       "    <tr>\n",
       "      <th>34</th>\n",
       "      <td>Judas and the Black Messiah</td>\n",
       "      <td>(2021– )</td>\n",
       "      <td>3.8</td>\n",
       "      <td>NaN</td>\n",
       "      <td>58736</td>\n",
       "    </tr>\n",
       "    <tr>\n",
       "      <th>35</th>\n",
       "      <td>Judas and the Black Messiah</td>\n",
       "      <td>(2013–2022)</td>\n",
       "      <td>9.9</td>\n",
       "      <td>NaN</td>\n",
       "      <td>57222</td>\n",
       "    </tr>\n",
       "    <tr>\n",
       "      <th>36</th>\n",
       "      <td>Free Guy</td>\n",
       "      <td>(2021)</td>\n",
       "      <td>7.6</td>\n",
       "      <td>62.0</td>\n",
       "      <td>54812</td>\n",
       "    </tr>\n",
       "    <tr>\n",
       "      <th>37</th>\n",
       "      <td>Space Jam: A New Legacy</td>\n",
       "      <td>(2021)</td>\n",
       "      <td>4.4</td>\n",
       "      <td>36.0</td>\n",
       "      <td>54293</td>\n",
       "    </tr>\n",
       "    <tr>\n",
       "      <th>38</th>\n",
       "      <td>The White Tiger</td>\n",
       "      <td>(2021)</td>\n",
       "      <td>7.1</td>\n",
       "      <td>76.0</td>\n",
       "      <td>53887</td>\n",
       "    </tr>\n",
       "    <tr>\n",
       "      <th>39</th>\n",
       "      <td>The White Tiger</td>\n",
       "      <td>(2021 TV Special)</td>\n",
       "      <td>8.1</td>\n",
       "      <td>NaN</td>\n",
       "      <td>51430</td>\n",
       "    </tr>\n",
       "    <tr>\n",
       "      <th>40</th>\n",
       "      <td>Hitman's Wife's Bodyguard</td>\n",
       "      <td>(2021)</td>\n",
       "      <td>6.1</td>\n",
       "      <td>32.0</td>\n",
       "      <td>51169</td>\n",
       "    </tr>\n",
       "    <tr>\n",
       "      <th>41</th>\n",
       "      <td>Hitman's Wife's Bodyguard</td>\n",
       "      <td>(2021)</td>\n",
       "      <td>7.2</td>\n",
       "      <td>NaN</td>\n",
       "      <td>49247</td>\n",
       "    </tr>\n",
       "    <tr>\n",
       "      <th>42</th>\n",
       "      <td>Without Remorse</td>\n",
       "      <td>(II) (2021)</td>\n",
       "      <td>5.8</td>\n",
       "      <td>41.0</td>\n",
       "      <td>48638</td>\n",
       "    </tr>\n",
       "    <tr>\n",
       "      <th>43</th>\n",
       "      <td>Fear Street: 1978</td>\n",
       "      <td>(2021)</td>\n",
       "      <td>6.7</td>\n",
       "      <td>61.0</td>\n",
       "      <td>47502</td>\n",
       "    </tr>\n",
       "    <tr>\n",
       "      <th>44</th>\n",
       "      <td>Those Who Wish Me Dead</td>\n",
       "      <td>(2021)</td>\n",
       "      <td>6.0</td>\n",
       "      <td>59.0</td>\n",
       "      <td>43529</td>\n",
       "    </tr>\n",
       "    <tr>\n",
       "      <th>45</th>\n",
       "      <td>The Green Knight</td>\n",
       "      <td>(2021)</td>\n",
       "      <td>6.6</td>\n",
       "      <td>85.0</td>\n",
       "      <td>42263</td>\n",
       "    </tr>\n",
       "    <tr>\n",
       "      <th>46</th>\n",
       "      <td>The Green Knight</td>\n",
       "      <td>(2013–2022)</td>\n",
       "      <td>9.9</td>\n",
       "      <td>NaN</td>\n",
       "      <td>42098</td>\n",
       "    </tr>\n",
       "    <tr>\n",
       "      <th>47</th>\n",
       "      <td>The Green Knight</td>\n",
       "      <td>(2021– )</td>\n",
       "      <td>7.9</td>\n",
       "      <td>NaN</td>\n",
       "      <td>41596</td>\n",
       "    </tr>\n",
       "    <tr>\n",
       "      <th>48</th>\n",
       "      <td>The Green Knight</td>\n",
       "      <td>(2013–2022)</td>\n",
       "      <td>9.9</td>\n",
       "      <td>NaN</td>\n",
       "      <td>40404</td>\n",
       "    </tr>\n",
       "    <tr>\n",
       "      <th>49</th>\n",
       "      <td>Stowaway</td>\n",
       "      <td>(2021)</td>\n",
       "      <td>5.6</td>\n",
       "      <td>63.0</td>\n",
       "      <td>38823</td>\n",
       "    </tr>\n",
       "  </tbody>\n",
       "</table>\n",
       "</div>"
      ],
      "text/plain": [
       "                                   movie_name       release_year  imdb  \\\n",
       "0                Zack Snyder's Justice League             (2021)   8.1   \n",
       "1                Zack Snyder's Justice League           (2021– )   9.7   \n",
       "2                Zack Snyder's Justice League             (2021)   8.0   \n",
       "3                                 Black Widow             (2021)   6.8   \n",
       "4                           The Suicide Squad             (2021)   7.4   \n",
       "5                           The Suicide Squad           (2021– )   8.4   \n",
       "6                           The Suicide Squad             (2021)   1.8   \n",
       "7                           Godzilla vs. Kong             (2021)   6.4   \n",
       "8                            The Tomorrow War             (2021)   6.6   \n",
       "9                                      Nobody             (2021)   7.4   \n",
       "10                                     Nobody             (2021)   7.3   \n",
       "11                                    Cruella             (2021)   7.4   \n",
       "12                              Mortal Kombat             (2021)   6.1   \n",
       "13                           Army of the Dead             (2021)   5.8   \n",
       "14                   Raya and the Last Dragon             (2021)   7.4   \n",
       "15                               Wrath of Man             (2021)   7.2   \n",
       "16                                       Luca             (2021)   7.5   \n",
       "17                              Jungle Cruise             (2021)   6.6   \n",
       "18                              Jungle Cruise             (2021)   8.8   \n",
       "19                              Jungle Cruise             (2021)   8.5   \n",
       "20                                         F9             (2021)   5.2   \n",
       "21                                         F9           (2021– )   7.5   \n",
       "22                                         F9           (2021– )   8.7   \n",
       "23     The Conjuring: The Devil Made Me Do It             (2021)   6.3   \n",
       "24                          The Little Things             (2021)   6.3   \n",
       "25              The Mitchells vs the Machines             (2021)   7.7   \n",
       "26  Shang-Chi and the Legend of the Ten Rings             (2021)   8.0   \n",
       "27  Shang-Chi and the Legend of the Ten Rings           (2021– )   7.7   \n",
       "28  Shang-Chi and the Legend of the Ten Rings             (2021)   7.9   \n",
       "29                                    The Dig             (2021)   7.1   \n",
       "30                          Fear Street: 1994             (2021)   6.2   \n",
       "31                           Coming 2 America             (2021)   5.3   \n",
       "32                    The Woman in the Window             (2021)   5.7   \n",
       "33                Judas and the Black Messiah             (2021)   7.5   \n",
       "34                Judas and the Black Messiah           (2021– )   3.8   \n",
       "35                Judas and the Black Messiah        (2013–2022)   9.9   \n",
       "36                                   Free Guy             (2021)   7.6   \n",
       "37                    Space Jam: A New Legacy             (2021)   4.4   \n",
       "38                            The White Tiger             (2021)   7.1   \n",
       "39                            The White Tiger  (2021 TV Special)   8.1   \n",
       "40                  Hitman's Wife's Bodyguard             (2021)   6.1   \n",
       "41                  Hitman's Wife's Bodyguard             (2021)   7.2   \n",
       "42                            Without Remorse        (II) (2021)   5.8   \n",
       "43                          Fear Street: 1978             (2021)   6.7   \n",
       "44                     Those Who Wish Me Dead             (2021)   6.0   \n",
       "45                           The Green Knight             (2021)   6.6   \n",
       "46                           The Green Knight        (2013–2022)   9.9   \n",
       "47                           The Green Knight           (2021– )   7.9   \n",
       "48                           The Green Knight        (2013–2022)   9.9   \n",
       "49                                   Stowaway             (2021)   5.6   \n",
       "\n",
       "    metascore   votes  \n",
       "0        54.0  335227  \n",
       "1         NaN  284017  \n",
       "2         NaN  228356  \n",
       "3        67.0  214274  \n",
       "4        72.0  198598  \n",
       "5         NaN  192974  \n",
       "6         NaN  172108  \n",
       "7        59.0  171972  \n",
       "8        45.0  161515  \n",
       "9        64.0  156732  \n",
       "10        NaN  155679  \n",
       "11       59.0  153416  \n",
       "12       44.0  139509  \n",
       "13       57.0  139121  \n",
       "14       75.0  114746  \n",
       "15       57.0  109975  \n",
       "16       71.0  106210  \n",
       "17       50.0  100827  \n",
       "18        NaN  100169  \n",
       "19        NaN   98756  \n",
       "20       58.0   89175  \n",
       "21        NaN   89099  \n",
       "22        NaN   88475  \n",
       "23       53.0   83425  \n",
       "24       54.0   74954  \n",
       "25       80.0   74921  \n",
       "26       71.0   73513  \n",
       "27        NaN   64199  \n",
       "28        NaN   63628  \n",
       "29       73.0   63537  \n",
       "30       67.0   62135  \n",
       "31       52.0   61885  \n",
       "32       41.0   61221  \n",
       "33       85.0   60163  \n",
       "34        NaN   58736  \n",
       "35        NaN   57222  \n",
       "36       62.0   54812  \n",
       "37       36.0   54293  \n",
       "38       76.0   53887  \n",
       "39        NaN   51430  \n",
       "40       32.0   51169  \n",
       "41        NaN   49247  \n",
       "42       41.0   48638  \n",
       "43       61.0   47502  \n",
       "44       59.0   43529  \n",
       "45       85.0   42263  \n",
       "46        NaN   42098  \n",
       "47        NaN   41596  \n",
       "48        NaN   40404  \n",
       "49       63.0   38823  "
      ]
     },
     "execution_count": 19,
     "metadata": {},
     "output_type": "execute_result"
    }
   ],
   "source": [
    "import pandas as pd\n",
    "test_df = pd.DataFrame({'movie_name': names,\n",
    "'release_year': years,\n",
    "'imdb': imdb_ratings,\n",
    "'metascore': metascores,\n",
    "'votes': votes\n",
    "})\n",
    "print(test_df.info())\n",
    "test_df"
   ]
  },
  {
   "cell_type": "markdown",
   "metadata": {},
   "source": [
    "## Scraping Data from multiple pages.\n",
    "\n",
    "Here is the **URL** `http://www.imdb.com/search/title?release_date=2017&sort=num_votes,desc&page=1`.\n",
    "<br/>\n",
    "<br/>\n",
    "Consists of release_date(only year i.e. `2017`), sort(according to number of votes(`num_votes`) i.e. `desc` or `asc`) and last page number i.e. `1`, and each page contains 50 movies."
   ]
  },
  {
   "cell_type": "code",
   "execution_count": 20,
   "metadata": {},
   "outputs": [],
   "source": [
    "pages = [str(i) for i in range(1,5)]\n",
    "years_url = [str(i) for i in range(2015,2020)]"
   ]
  },
  {
   "cell_type": "markdown",
   "metadata": {},
   "source": [
    "To avoid blocking our IP address, we will use `sleep()` function from Python’s `time` module. `sleep()` will pause the execution of the loop for a specified amount of seconds."
   ]
  },
  {
   "cell_type": "code",
   "execution_count": 21,
   "metadata": {},
   "outputs": [],
   "source": [
    "from time import sleep\n",
    "from random import randint"
   ]
  },
  {
   "cell_type": "code",
   "execution_count": 22,
   "metadata": {
    "scrolled": true
   },
   "outputs": [
    {
     "name": "stdout",
     "output_type": "stream",
     "text": [
      "Request: 1; Frequency: 0.9981561389530639 requests/s\n",
      "Request: 2; Frequency: 0.9974280160171429 requests/s\n",
      "Request: 3; Frequency: 0.996722192420771 requests/s\n",
      "Request: 4; Frequency: 0.6650218056720869 requests/s\n",
      "Request: 5; Frequency: 0.7122746147084202 requests/s\n"
     ]
    }
   ],
   "source": [
    "from time import time;start_time = time()\n",
    "requests = 0\n",
    "for _ in range(5):\n",
    "# A request would go here\n",
    "    requests += 1\n",
    "    sleep(randint(1,3))\n",
    "    elapsed_time = time() - start_time\n",
    "    print('Request: {}; Frequency: {} requests/s'.format(requests, requests/elapsed_time))"
   ]
  },
  {
   "cell_type": "markdown",
   "metadata": {},
   "source": [
    "Since we’re going to make 72 requests, our work will look a bit untidy as the output accumulates. To avoid that, we’ll clear the output after each iteration, and replace it with information about the most recent request. To do that we’ll use the `clear_output()` function from the `IPython’s core.display` module. We’ll set the wait parameter of `clear_output()` to True to wait with replacing the current output until some new output appears."
   ]
  },
  {
   "cell_type": "code",
   "execution_count": 23,
   "metadata": {},
   "outputs": [
    {
     "name": "stdout",
     "output_type": "stream",
     "text": [
      "Request: 1; Frequency: 0.49990876194065437 requests/s\n",
      "Request: 2; Frequency: 0.6656939098104092 requests/s\n",
      "Request: 3; Frequency: 0.4991694401912241 requests/s\n",
      "Request: 4; Frequency: 0.44389916514587896 requests/s\n",
      "Request: 5; Frequency: 0.4162640541708253 requests/s\n"
     ]
    }
   ],
   "source": [
    "from IPython.core.display import clear_output\n",
    "start_time = time()\n",
    "requests = 0\n",
    "for _ in range(5):\n",
    "# A request would go here\n",
    "    requests += 1\n",
    "    sleep(randint(1,3))\n",
    "    current_time = time()\n",
    "    elapsed_time = current_time - start_time\n",
    "    print('Request: {}; Frequency: {} requests/s'.format(requests, requests/elapsed_time))\n",
    "clear_output(wait = True)"
   ]
  },
  {
   "cell_type": "markdown",
   "metadata": {},
   "source": [
    "To monitor the status code we’ll set the program to warn us if there’s something off. A successful request is indicated by a status code of 200. We’ll use the `warn()` function from the `warnings` module to throw a warning if the status code is not 200."
   ]
  },
  {
   "cell_type": "code",
   "execution_count": 24,
   "metadata": {},
   "outputs": [
    {
     "name": "stderr",
     "output_type": "stream",
     "text": [
      "E:\\Anaconda3\\lib\\site-packages\\ipykernel_launcher.py:1: UserWarning: Warning Simulation\n",
      "  \"\"\"Entry point for launching an IPython kernel.\n"
     ]
    }
   ],
   "source": [
    "from warnings import warn;warn(\"Warning Simulation\")"
   ]
  },
  {
   "cell_type": "code",
   "execution_count": 25,
   "metadata": {},
   "outputs": [
    {
     "name": "stdout",
     "output_type": "stream",
     "text": [
      "Request:20; Frequency: 0.06291955952528032 requests/s\n"
     ]
    }
   ],
   "source": [
    "# Redeclaring the lists to store data in\n",
    "names = []\n",
    "years = []\n",
    "imdb_ratings = []\n",
    "metascores = []\n",
    "votes = []\n",
    "\n",
    "# Preparing the monitoring of the loop\n",
    "start_time = time()\n",
    "requests = 0\n",
    "\n",
    "headers = {\"Accept-Language\": \"en-US, en;q=0.5\"}\n",
    "\n",
    "# For every year in the interval 2015-2019\n",
    "for year_url in years_url:\n",
    "\n",
    "    # For every page in the interval 1-4\n",
    "    for page in pages:\n",
    "\n",
    "        # Make a get request\n",
    "        response = get('http://www.imdb.com/search/title?release_date=' + year_url +\n",
    "        '&sort=num_votes,desc&page=' + page, headers = headers)\n",
    "\n",
    "        # Pause the loop\n",
    "        sleep(randint(8,15))\n",
    "        # Monitor the requests\n",
    "        requests += 1\n",
    "        elapsed_time = time() - start_time\n",
    "        print('Request:{}; Frequency: {} requests/s'.format(requests, requests/elapsed_time))\n",
    "        clear_output(wait = True)\n",
    "\n",
    "        # Throw a warning for non-200 status codes\n",
    "        if response.status_code != 200:\n",
    "            warn('Request: {}; Status code: {}'.format(requests, response.status_code))\n",
    "\n",
    "        # Break the loop if the number of requests is greater than expected\n",
    "        if requests > 72:\n",
    "            warn('Number of requests was greater than expected.')\n",
    "            break\n",
    "\n",
    "        # Parse the content of the request with BeautifulSoup\n",
    "        page_html = BeautifulSoup(response.text, 'html.parser')\n",
    "\n",
    "        # Select all the 50 movie containers from a single page\n",
    "        mv_containers = page_html.find_all('div', class_ = 'lister-item mode-advanced')\n",
    "\n",
    "        # For every movie of these 50\n",
    "        for container in mv_containers:\n",
    "            # If the movie has a Metascore, then:\n",
    "            if container.find('div', class_ = 'ratings-metascore') is not None:\n",
    "\n",
    "                # Scrape the name\n",
    "                name = container.h3.a.text\n",
    "                names.append(name)\n",
    "                \n",
    "                # Scrape the year\n",
    "                year = container.h3.find('span', class_ = 'lister-item-year').text\n",
    "                years.append(year)\n",
    "\n",
    "                # Scrape the IMDB rating\n",
    "                imdb = float(container.strong.text)\n",
    "                imdb_ratings.append(imdb)\n",
    "\n",
    "                # Scrape the Metascore\n",
    "                m_score = container.find('span', class_ = 'metascore').text\n",
    "                metascores.append(int(m_score))\n",
    "\n",
    "                # Scrape the number of votes\n",
    "                vote = container.find('span', attrs = {'name':'nv'})['data-value']\n",
    "                votes.append(int(vote))"
   ]
  },
  {
   "cell_type": "code",
   "execution_count": 26,
   "metadata": {},
   "outputs": [
    {
     "name": "stdout",
     "output_type": "stream",
     "text": [
      "<class 'pandas.core.frame.DataFrame'>\n",
      "RangeIndex: 872 entries, 0 to 871\n",
      "Data columns (total 5 columns):\n",
      "movie_name      872 non-null object\n",
      "release_year    872 non-null object\n",
      "imdb            872 non-null float64\n",
      "metascore       872 non-null int64\n",
      "votes           872 non-null int64\n",
      "dtypes: float64(1), int64(2), object(2)\n",
      "memory usage: 34.2+ KB\n",
      "None\n"
     ]
    },
    {
     "data": {
      "text/html": [
       "<div>\n",
       "<style scoped>\n",
       "    .dataframe tbody tr th:only-of-type {\n",
       "        vertical-align: middle;\n",
       "    }\n",
       "\n",
       "    .dataframe tbody tr th {\n",
       "        vertical-align: top;\n",
       "    }\n",
       "\n",
       "    .dataframe thead th {\n",
       "        text-align: right;\n",
       "    }\n",
       "</style>\n",
       "<table border=\"1\" class=\"dataframe\">\n",
       "  <thead>\n",
       "    <tr style=\"text-align: right;\">\n",
       "      <th></th>\n",
       "      <th>movie_name</th>\n",
       "      <th>release_year</th>\n",
       "      <th>imdb</th>\n",
       "      <th>metascore</th>\n",
       "      <th>votes</th>\n",
       "    </tr>\n",
       "  </thead>\n",
       "  <tbody>\n",
       "    <tr>\n",
       "      <th>0</th>\n",
       "      <td>Star Wars: Episode VII - The Force Awakens</td>\n",
       "      <td>(2015)</td>\n",
       "      <td>7.9</td>\n",
       "      <td>81</td>\n",
       "      <td>822755</td>\n",
       "    </tr>\n",
       "    <tr>\n",
       "      <th>1</th>\n",
       "      <td>Mad Max: Fury Road</td>\n",
       "      <td>(2015)</td>\n",
       "      <td>8.1</td>\n",
       "      <td>90</td>\n",
       "      <td>815099</td>\n",
       "    </tr>\n",
       "    <tr>\n",
       "      <th>2</th>\n",
       "      <td>The Martian</td>\n",
       "      <td>(2015)</td>\n",
       "      <td>8.0</td>\n",
       "      <td>80</td>\n",
       "      <td>710212</td>\n",
       "    </tr>\n",
       "    <tr>\n",
       "      <th>3</th>\n",
       "      <td>Avengers: Age of Ultron</td>\n",
       "      <td>(2015)</td>\n",
       "      <td>7.3</td>\n",
       "      <td>66</td>\n",
       "      <td>696457</td>\n",
       "    </tr>\n",
       "    <tr>\n",
       "      <th>4</th>\n",
       "      <td>The Revenant</td>\n",
       "      <td>(2015)</td>\n",
       "      <td>8.0</td>\n",
       "      <td>76</td>\n",
       "      <td>652809</td>\n",
       "    </tr>\n",
       "    <tr>\n",
       "      <th>5</th>\n",
       "      <td>Inside Out</td>\n",
       "      <td>(I) (2015)</td>\n",
       "      <td>8.2</td>\n",
       "      <td>94</td>\n",
       "      <td>563734</td>\n",
       "    </tr>\n",
       "    <tr>\n",
       "      <th>6</th>\n",
       "      <td>Jurassic World</td>\n",
       "      <td>(2015)</td>\n",
       "      <td>7.0</td>\n",
       "      <td>59</td>\n",
       "      <td>554218</td>\n",
       "    </tr>\n",
       "    <tr>\n",
       "      <th>7</th>\n",
       "      <td>Ant-Man</td>\n",
       "      <td>(2015)</td>\n",
       "      <td>7.3</td>\n",
       "      <td>64</td>\n",
       "      <td>530340</td>\n",
       "    </tr>\n",
       "    <tr>\n",
       "      <th>8</th>\n",
       "      <td>The Hateful Eight</td>\n",
       "      <td>(2015)</td>\n",
       "      <td>7.8</td>\n",
       "      <td>68</td>\n",
       "      <td>471893</td>\n",
       "    </tr>\n",
       "    <tr>\n",
       "      <th>9</th>\n",
       "      <td>Spotlight</td>\n",
       "      <td>(I) (2015)</td>\n",
       "      <td>8.1</td>\n",
       "      <td>93</td>\n",
       "      <td>384001</td>\n",
       "    </tr>\n",
       "  </tbody>\n",
       "</table>\n",
       "</div>"
      ],
      "text/plain": [
       "                                   movie_name release_year  imdb  metascore  \\\n",
       "0  Star Wars: Episode VII - The Force Awakens       (2015)   7.9         81   \n",
       "1                          Mad Max: Fury Road       (2015)   8.1         90   \n",
       "2                                 The Martian       (2015)   8.0         80   \n",
       "3                     Avengers: Age of Ultron       (2015)   7.3         66   \n",
       "4                                The Revenant       (2015)   8.0         76   \n",
       "5                                  Inside Out   (I) (2015)   8.2         94   \n",
       "6                              Jurassic World       (2015)   7.0         59   \n",
       "7                                     Ant-Man       (2015)   7.3         64   \n",
       "8                           The Hateful Eight       (2015)   7.8         68   \n",
       "9                                   Spotlight   (I) (2015)   8.1         93   \n",
       "\n",
       "    votes  \n",
       "0  822755  \n",
       "1  815099  \n",
       "2  710212  \n",
       "3  696457  \n",
       "4  652809  \n",
       "5  563734  \n",
       "6  554218  \n",
       "7  530340  \n",
       "8  471893  \n",
       "9  384001  "
      ]
     },
     "execution_count": 26,
     "metadata": {},
     "output_type": "execute_result"
    }
   ],
   "source": [
    "movie_ratings = pd.DataFrame({'movie_name': names,\n",
    "'release_year': years,\n",
    "'imdb': imdb_ratings,\n",
    "'metascore': metascores,\n",
    "'votes': votes\n",
    "})\n",
    "print(movie_ratings.info())\n",
    "movie_ratings.head(10)"
   ]
  },
  {
   "cell_type": "code",
   "execution_count": 27,
   "metadata": {},
   "outputs": [
    {
     "data": {
      "text/plain": [
       "(2018)          168\n",
       "(2017)          152\n",
       "(2016)          148\n",
       "(2015)          140\n",
       "(2019)          128\n",
       "(I) (2015)       28\n",
       "(I) (2016)       24\n",
       "(I) (2017)       20\n",
       "(I) (2018)       16\n",
       "(II) (2016)      12\n",
       "(I) (2019)       12\n",
       "(II) (2015)       8\n",
       "(II) (2019)       4\n",
       "(III) (2019)      4\n",
       "(III) (2018)      4\n",
       "(IX) (2016)       4\n",
       "Name: release_year, dtype: int64"
      ]
     },
     "execution_count": 27,
     "metadata": {},
     "output_type": "execute_result"
    }
   ],
   "source": [
    "movie_ratings['release_year'].value_counts()"
   ]
  },
  {
   "cell_type": "code",
   "execution_count": 28,
   "metadata": {},
   "outputs": [],
   "source": [
    "movie_ratings.loc[:, 'release_year'] = movie_ratings['release_year'].str[-5:-1].astype(int)"
   ]
  },
  {
   "cell_type": "code",
   "execution_count": 29,
   "metadata": {},
   "outputs": [
    {
     "data": {
      "text/plain": [
       "2018    188\n",
       "2016    188\n",
       "2015    176\n",
       "2017    172\n",
       "2019    148\n",
       "Name: release_year, dtype: int64"
      ]
     },
     "execution_count": 29,
     "metadata": {},
     "output_type": "execute_result"
    }
   ],
   "source": [
    "movie_ratings['release_year'].value_counts()"
   ]
  },
  {
   "cell_type": "code",
   "execution_count": 30,
   "metadata": {},
   "outputs": [
    {
     "data": {
      "text/html": [
       "<div>\n",
       "<style scoped>\n",
       "    .dataframe tbody tr th:only-of-type {\n",
       "        vertical-align: middle;\n",
       "    }\n",
       "\n",
       "    .dataframe tbody tr th {\n",
       "        vertical-align: top;\n",
       "    }\n",
       "\n",
       "    .dataframe thead th {\n",
       "        text-align: right;\n",
       "    }\n",
       "</style>\n",
       "<table border=\"1\" class=\"dataframe\">\n",
       "  <thead>\n",
       "    <tr style=\"text-align: right;\">\n",
       "      <th></th>\n",
       "      <th>movie_name</th>\n",
       "      <th>release_year</th>\n",
       "      <th>imdb</th>\n",
       "      <th>metascore</th>\n",
       "      <th>votes</th>\n",
       "    </tr>\n",
       "  </thead>\n",
       "  <tbody>\n",
       "    <tr>\n",
       "      <th>0</th>\n",
       "      <td>Star Wars: Episode VII - The Force Awakens</td>\n",
       "      <td>2015</td>\n",
       "      <td>7.9</td>\n",
       "      <td>81</td>\n",
       "      <td>822755</td>\n",
       "    </tr>\n",
       "    <tr>\n",
       "      <th>1</th>\n",
       "      <td>Mad Max: Fury Road</td>\n",
       "      <td>2015</td>\n",
       "      <td>8.1</td>\n",
       "      <td>90</td>\n",
       "      <td>815099</td>\n",
       "    </tr>\n",
       "    <tr>\n",
       "      <th>2</th>\n",
       "      <td>The Martian</td>\n",
       "      <td>2015</td>\n",
       "      <td>8.0</td>\n",
       "      <td>80</td>\n",
       "      <td>710212</td>\n",
       "    </tr>\n",
       "    <tr>\n",
       "      <th>3</th>\n",
       "      <td>Avengers: Age of Ultron</td>\n",
       "      <td>2015</td>\n",
       "      <td>7.3</td>\n",
       "      <td>66</td>\n",
       "      <td>696457</td>\n",
       "    </tr>\n",
       "    <tr>\n",
       "      <th>4</th>\n",
       "      <td>The Revenant</td>\n",
       "      <td>2015</td>\n",
       "      <td>8.0</td>\n",
       "      <td>76</td>\n",
       "      <td>652809</td>\n",
       "    </tr>\n",
       "  </tbody>\n",
       "</table>\n",
       "</div>"
      ],
      "text/plain": [
       "                                   movie_name  release_year  imdb  metascore  \\\n",
       "0  Star Wars: Episode VII - The Force Awakens          2015   7.9         81   \n",
       "1                          Mad Max: Fury Road          2015   8.1         90   \n",
       "2                                 The Martian          2015   8.0         80   \n",
       "3                     Avengers: Age of Ultron          2015   7.3         66   \n",
       "4                                The Revenant          2015   8.0         76   \n",
       "\n",
       "    votes  \n",
       "0  822755  \n",
       "1  815099  \n",
       "2  710212  \n",
       "3  696457  \n",
       "4  652809  "
      ]
     },
     "execution_count": 30,
     "metadata": {},
     "output_type": "execute_result"
    }
   ],
   "source": [
    "movie_ratings.head()"
   ]
  },
  {
   "cell_type": "code",
   "execution_count": 31,
   "metadata": {},
   "outputs": [
    {
     "name": "stdout",
     "output_type": "stream",
     "text": [
      "<class 'pandas.core.frame.DataFrame'>\n",
      "RangeIndex: 872 entries, 0 to 871\n",
      "Data columns (total 5 columns):\n",
      "movie_name      872 non-null object\n",
      "release_year    872 non-null int32\n",
      "imdb            872 non-null float64\n",
      "metascore       872 non-null int64\n",
      "votes           872 non-null int64\n",
      "dtypes: float64(1), int32(1), int64(2), object(1)\n",
      "memory usage: 30.8+ KB\n"
     ]
    }
   ],
   "source": [
    "movie_ratings.info()"
   ]
  },
  {
   "cell_type": "code",
   "execution_count": 32,
   "metadata": {},
   "outputs": [],
   "source": [
    "movie_ratings.to_csv('movie_ratings.csv')"
   ]
  },
  {
   "cell_type": "markdown",
   "metadata": {},
   "source": [
    "`movie_ratings` DataFrame converted into `csv` file format."
   ]
  }
 ],
 "metadata": {
  "kernelspec": {
   "display_name": "Python 3",
   "language": "python",
   "name": "python3"
  },
  "language_info": {
   "codemirror_mode": {
    "name": "ipython",
    "version": 3
   },
   "file_extension": ".py",
   "mimetype": "text/x-python",
   "name": "python",
   "nbconvert_exporter": "python",
   "pygments_lexer": "ipython3",
   "version": "3.8.8"
  }
 },
 "nbformat": 4,
 "nbformat_minor": 2
}
